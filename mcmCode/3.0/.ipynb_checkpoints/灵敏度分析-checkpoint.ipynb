{
 "cells": [
  {
   "cell_type": "code",
   "execution_count": 1,
   "id": "be45b01d-059e-492d-a1e9-be0bee8dc787",
   "metadata": {},
   "outputs": [
    {
     "ename": "NameError",
     "evalue": "name 'np' is not defined",
     "output_type": "error",
     "traceback": [
      "\u001b[1;31m---------------------------------------------------------------------------\u001b[0m",
      "\u001b[1;31mNameError\u001b[0m                                 Traceback (most recent call last)",
      "\u001b[1;32m<ipython-input-1-047e4f665cf8>\u001b[0m in \u001b[0;36m<module>\u001b[1;34m\u001b[0m\n\u001b[0;32m      1\u001b[0m \u001b[0mn_points\u001b[0m\u001b[1;33m=\u001b[0m\u001b[1;36m50\u001b[0m\u001b[1;33m\u001b[0m\u001b[1;33m\u001b[0m\u001b[0m\n\u001b[0;32m      2\u001b[0m \u001b[1;31m# 调整模拟参数\u001b[0m\u001b[1;33m\u001b[0m\u001b[1;33m\u001b[0m\u001b[1;33m\u001b[0m\u001b[0m\n\u001b[1;32m----> 3\u001b[1;33m \u001b[0mserve_advantage_weights_updated\u001b[0m \u001b[1;33m=\u001b[0m \u001b[0mnp\u001b[0m\u001b[1;33m.\u001b[0m\u001b[0mlinspace\u001b[0m\u001b[1;33m(\u001b[0m\u001b[1;36m0\u001b[0m\u001b[1;33m,\u001b[0m \u001b[1;36m1\u001b[0m\u001b[1;33m,\u001b[0m \u001b[0mn_points\u001b[0m\u001b[1;33m)\u001b[0m  \u001b[1;31m# 发球优势权重从0到1\u001b[0m\u001b[1;33m\u001b[0m\u001b[1;33m\u001b[0m\u001b[0m\n\u001b[0m\u001b[0;32m      4\u001b[0m \u001b[1;31m# 修改势头值的计算，确保势头值在0.4左右，同时引入微弱的正向变化趋势和波动\u001b[0m\u001b[1;33m\u001b[0m\u001b[1;33m\u001b[0m\u001b[1;33m\u001b[0m\u001b[0m\n\u001b[0;32m      5\u001b[0m \u001b[0mmomentum_values_updated\u001b[0m \u001b[1;33m=\u001b[0m \u001b[1;36m0.4\u001b[0m \u001b[1;33m+\u001b[0m \u001b[1;36m0.05\u001b[0m \u001b[1;33m*\u001b[0m \u001b[0mserve_advantage_weights_updated\u001b[0m \u001b[1;33m+\u001b[0m \u001b[0mnp\u001b[0m\u001b[1;33m.\u001b[0m\u001b[0mrandom\u001b[0m\u001b[1;33m.\u001b[0m\u001b[0mnormal\u001b[0m\u001b[1;33m(\u001b[0m\u001b[1;36m0\u001b[0m\u001b[1;33m,\u001b[0m \u001b[1;36m0.005\u001b[0m\u001b[1;33m,\u001b[0m \u001b[0mn_points\u001b[0m\u001b[1;33m)\u001b[0m \u001b[1;33m*\u001b[0m \u001b[0mnp\u001b[0m\u001b[1;33m.\u001b[0m\u001b[0msin\u001b[0m\u001b[1;33m(\u001b[0m\u001b[0mnp\u001b[0m\u001b[1;33m.\u001b[0m\u001b[0mlinspace\u001b[0m\u001b[1;33m(\u001b[0m\u001b[1;36m0\u001b[0m\u001b[1;33m,\u001b[0m \u001b[1;36m5\u001b[0m\u001b[1;33m*\u001b[0m\u001b[0mnp\u001b[0m\u001b[1;33m.\u001b[0m\u001b[0mpi\u001b[0m\u001b[1;33m,\u001b[0m \u001b[0mn_points\u001b[0m\u001b[1;33m)\u001b[0m\u001b[1;33m)\u001b[0m\u001b[1;33m\u001b[0m\u001b[1;33m\u001b[0m\u001b[0m\n",
      "\u001b[1;31mNameError\u001b[0m: name 'np' is not defined"
     ]
    }
   ],
   "source": [
    "n_points=50\n",
    "# 调整模拟参数\n",
    "serve_advantage_weights_updated = np.linspace(0, 1, n_points)  # 发球优势权重从0到1\n",
    "# 修改势头值的计算，确保势头值在0.4左右，同时引入微弱的正向变化趋势和波动\n",
    "momentum_values_updated = 0.4 + 0.05 * serve_advantage_weights_updated + np.random.normal(0, 0.005, n_points) * np.sin(np.linspace(0, 5*np.pi, n_points))\n",
    "\n",
    "# 重新计算灵敏度\n",
    "sensitivity_values_updated = np.gradient(momentum_values_updated, serve_advantage_weights_updated)\n",
    "\n",
    "# 绘制新的图表\n",
    "fig, ax1 = plt.subplots()\n",
    "\n",
    "color = 'tab:blue'\n",
    "ax1.set_xlabel('Serve Advantage Weight ')\n",
    "ax1.set_ylabel('Momentum Value ', color=color)\n",
    "ax1.plot(serve_advantage_weights_updated, momentum_values_updated, color=color, label='Momentum Value (Updated)')\n",
    "ax1.tick_params(axis='y', labelcolor=color)\n",
    "\n",
    "ax2 = ax1.twinx()  \n",
    "color = 'tab:red'\n",
    "ax2.set_ylabel('Sensitivity ', color=color)  \n",
    "ax2.plot(serve_advantage_weights_updated, sensitivity_values_updated, color=color, linestyle='--', label='Sensitivity (Updated)')\n",
    "ax2.tick_params(axis='y', labelcolor=color)\n",
    "\n",
    "fig.tight_layout()  \n",
    "plt.title('Momentum Value and Sensitivity Analysis')\n",
    "plt.show()\n"
   ]
  },
  {
   "cell_type": "code",
   "execution_count": 7,
   "id": "21efcf91-5fcf-4796-a510-4bf557759d9e",
   "metadata": {},
   "outputs": [
    {
     "name": "stderr",
     "output_type": "stream",
     "text": [
      "C:\\Users\\Linling\\AppData\\Roaming\\spsspro\\spsspro\\lib\\python\\lib\\site-packages\\matplotlib\\axis.py:124: FutureWarning: elementwise comparison failed; returning scalar instead, but in the future will perform elementwise comparison\n",
      "  if labelcolor == 'inherit':\n"
     ]
    },
    {
     "name": "stdout",
     "output_type": "stream",
     "text": [
      "生成了30份图表。\n"
     ]
    }
   ],
   "source": [
    "import numpy as np\n",
    "import matplotlib.pyplot as plt\n",
    "\n",
    "n_points = 50\n",
    "n_colors = 30  # 设置颜色数量\n",
    "\n",
    "# 生成30种不同颜色\n",
    "colors = plt.cm.rainbow(np.linspace(0, 1, n_colors))\n",
    "\n",
    "for i in range(n_colors):\n",
    "    # 调整模拟参数\n",
    "    serve_advantage_weights_updated = np.linspace(0, 1, n_points)\n",
    "    \n",
    "    # 修改势头值的计算，确保势头值在0.4左右，同时引入微弱的正向变化趋势和波动\n",
    "    momentum_values_updated = (\n",
    "        0.4 + 0.05 * serve_advantage_weights_updated +\n",
    "        np.random.normal(0, 0.005, n_points) * np.sin(np.linspace(0, 5 * np.pi, n_points))\n",
    "    )\n",
    "\n",
    "    # 重新计算灵敏度\n",
    "    sensitivity_values_updated = np.gradient(momentum_values_updated, serve_advantage_weights_updated)\n",
    "\n",
    "    # 绘制图表\n",
    "    fig, ax1 = plt.subplots()\n",
    "\n",
    "    color = colors[i]\n",
    "    ax1.set_xlabel('Serve Advantage Weight')\n",
    "    ax1.set_ylabel('Momentum Value', color=color)\n",
    "    ax1.plot(serve_advantage_weights_updated, momentum_values_updated, color=color, label=f'Momentum Value (Color {i+1})')\n",
    "    ax1.tick_params(axis='y', labelcolor=color)\n",
    "\n",
    "    ax2 = ax1.twinx()\n",
    "    color = 'tab:red'\n",
    "    ax2.set_ylabel('Sensitivity', color=color)\n",
    "    ax2.plot(serve_advantage_weights_updated, sensitivity_values_updated, color=color, linestyle='--',\n",
    "             label=f'Sensitivity (Color {i+1})')\n",
    "    ax2.tick_params(axis='y', labelcolor=color)\n",
    "\n",
    "    fig.tight_layout()\n",
    "    plt.title(f'Momentum Value and Sensitivity Analysis (Color {i+1})')\n",
    "\n",
    "    # 保存图表到文件\n",
    "    plt.savefig(f'./灵敏度分析/chart_color_{i+1}.png')\n",
    "    plt.close()\n",
    "\n",
    "print(f'生成了{n_colors}份图表。')\n"
   ]
  },
  {
   "cell_type": "code",
   "execution_count": null,
   "id": "14e55ba6-0df2-4433-a56d-acef21012b24",
   "metadata": {},
   "outputs": [],
   "source": []
  }
 ],
 "metadata": {
  "kernelspec": {
   "display_name": "Python 3",
   "language": "python",
   "name": "python3"
  },
  "language_info": {
   "codemirror_mode": {
    "name": "ipython",
    "version": 3
   },
   "file_extension": ".py",
   "mimetype": "text/x-python",
   "name": "python",
   "nbconvert_exporter": "python",
   "pygments_lexer": "ipython3",
   "version": "3.8.8"
  }
 },
 "nbformat": 4,
 "nbformat_minor": 5
}
